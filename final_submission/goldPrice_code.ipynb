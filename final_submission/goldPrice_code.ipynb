{
 "cells": [
  {
   "cell_type": "markdown",
   "id": "5c4ea724",
   "metadata": {},
   "source": [
    "# Configuração do ambiente"
   ]
  },
  {
   "cell_type": "code",
   "execution_count": null,
   "id": "92bb22d5-6e0f-4979-8c75-6b9d5dcb4bfb",
   "metadata": {
    "vscode": {
     "languageId": "r"
    }
   },
   "outputs": [],
   "source": [
    "install.packages(c(\"ggfortify\",\"fpp2\",\"forecast\",\"astsa\",\"ggplot2\",\"dplyr\",\"FinTS\",\"fGarch,rugarch\",\"lubridate\",\"moments\"))\n",
    "required_packages=c(\"ggfortify\",\"fpp2\",\"forecast\",\"astsa\",\"ggplot2\",\"dplyr\",\"FinTS\",\"fGarch\",\"rugarch\",\"lubridate\",\"moments\")\n",
    "lapply(required_packages, library, character.only=TRUE)"
   ]
  },
  {
   "cell_type": "markdown",
   "id": "cbd21aa8",
   "metadata": {},
   "source": [
    "# Importação dos dados e pré-processamento dos dados"
   ]
  },
  {
   "cell_type": "code",
   "execution_count": null,
   "id": "f4e9d56a-45eb-479d-bfe0-5fe6fcc7063f",
   "metadata": {
    "vscode": {
     "languageId": "r"
    }
   },
   "outputs": [],
   "source": [
    "raw_df = read.csv(\"./gold_price_data.csv\")\n",
    "raw_df$Date = as.Date(raw_df$Date)\n",
    "#Create a parallel dataframe with the complete dates getting start and end from raw_df as reference\n",
    "complete_dates = data.frame(\n",
    "    Date = seq(min(raw_df$Date), max(raw_df$Date), by = \"days\")\n",
    ")\n",
    "#merge both dataframes to create NA values into the missing date values and fill the date column\n",
    "merged_withNA = merge(raw_df, complete_dates, by = \"Date\", all=TRUE)\n",
    "\n",
    "#Checking the amount of missing values in the DF\n",
    "sum(is.na(merged_withNA$Value))\n",
    "\n",
    "#creating a start date object to use as reference\n",
    "date1980s = as.Date(\"1980-01-01\")\n",
    "#filtering the gold price observations after the reference date (1980)\n",
    "after1980s = merged_withNA[merged_withNA$Date >= date1980s, ]\n",
    "\n",
    "#resampling the dataframe for weekly frequency from the observations starting on 1980\n",
    "weekly_data = seq(min(after1980s$Date), max(after1980s$Date), by = \"7 days\")\n",
    "weekly_data_withValues = merged_withNA[merged_withNA$Date %in% weekly_data, ]"
   ]
  },
  {
   "cell_type": "code",
   "execution_count": null,
   "id": "76c8df7b",
   "metadata": {
    "vscode": {
     "languageId": "r"
    }
   },
   "outputs": [],
   "source": [
    "start_date = as.Date(min(weekly_data_withValues$Date))\n",
    "start_date_forTS = c(year(start_date),isoweek(start_date))\n",
    "end_date = max(weekly_data_withValues$Date)\n",
    "end_date_forTS = c(year(end_date),isoweek(end_date))\n",
    "\n",
    "goldPrice_TS = ts(weekly_data_withValues[,\"Value\"], \n",
    "    start = start_date_forTS, \n",
    "    end = end_date_forTS, \n",
    "    frequency = 52)"
   ]
  },
  {
   "cell_type": "markdown",
   "id": "929c301c",
   "metadata": {},
   "source": [
    "Dataframe primario"
   ]
  },
  {
   "cell_type": "code",
   "execution_count": null,
   "id": "a45a828f-241b-4e1f-b4b7-2e47f047e1bd",
   "metadata": {
    "vscode": {
     "languageId": "r"
    }
   },
   "outputs": [],
   "source": [
    "plot = ggplot(raw_df, aes(x= Date, y = Value)) +\n",
    "              geom_point() +\n",
    "              labs(x = \"Date\", y = \"Value\") +  # Add axis labels\n",
    "              ggtitle(\"Scatter Plot of Date vs. Value\") # Add a title\n",
    "              theme_minimal(base_size = 16) +  # Adjust the base size of the plot\n",
    "              theme(plot.title = element_text(size = 20),\n",
    "              main = \"Série temporal do preço do ouro - Pré tratamento\")  # Adjust the title size\n",
    "# Set the size of the plot\n",
    "options(repr.plot.width = 15, repr.plot.height = 15)  # Adjust the width and height as needed\n",
    "# Print the scatter plot\n",
    "print(plot)"
   ]
  },
  {
   "cell_type": "markdown",
   "id": "115154b9",
   "metadata": {},
   "source": [
    "Dataframe pos processamento"
   ]
  },
  {
   "cell_type": "code",
   "execution_count": null,
   "id": "0ee34811",
   "metadata": {
    "vscode": {
     "languageId": "r"
    }
   },
   "outputs": [],
   "source": [
    "ts.plot(goldPrice_TS, xlab= \"Year\", main=\"Série temporal do preço do ouro entre 1980 e 2020 | Pós-tratamento\")\n",
    "# Customize the x-axis labels to show a yearly grid using time(diff_goldPrice)\n",
    "years = seq(as.integer(year(start_date)), as.integer(year(end_date)))\n",
    "axis(1, at = years)"
   ]
  },
  {
   "cell_type": "markdown",
   "id": "e64b26f9",
   "metadata": {},
   "source": [
    "# Estudo do Retorno"
   ]
  },
  {
   "cell_type": "code",
   "execution_count": null,
   "id": "a76a1677",
   "metadata": {
    "vscode": {
     "languageId": "r"
    }
   },
   "outputs": [],
   "source": [
    "returnTS_gold = diff(goldPrice_TS) / stats::lag(goldPrice_TS, -1)\n",
    "sqd_returnTS_gold = returnTS_gold^2\n",
    "kurt_return = kurtosis(returnTS_gold)\n",
    "print(kurt_return)"
   ]
  },
  {
   "cell_type": "code",
   "execution_count": null,
   "id": "0966444b",
   "metadata": {
    "vscode": {
     "languageId": "r"
    }
   },
   "outputs": [],
   "source": [
    "par(mfrow = c(2,1), mar = c(4, 4, 2, 2), oma = c(0, 0, 1, 0), mex = 0.8)\n",
    "norm_dist_reference = seq(min(returnTS_gold),max(returnTS_gold),by=0.001)\n",
    "plot(returnTS_gold, main = \"Série temporal do retorno semanal do preço do ouro entre 1980 e 2020\")\n",
    "hist(returnTS_gold, freq= FALSE, col = \"lightblue\", main= \"Distribuição de densidade retorno\",ylim = c(0,25))\n",
    "lines(density(returnTS_gold))\n",
    "lines(norm_dist_reference,dnorm(norm_dist_reference,mean(returnTS_gold),sd(returnTS_gold)),col = \"red\")\n",
    "legend(\"topleft\", legend = \"Return Distribution\", col = \"black\", lty = 1, bg = \"transparent\", box.lty = 0)\n",
    "legend(\"topright\", legend = paste(\"Kurtosis:\", round(kurt_return, 3)), col = \"blue\", bg = \"transparent\", box.lty = 0)"
   ]
  },
  {
   "cell_type": "code",
   "execution_count": 46,
   "id": "5ddb446b",
   "metadata": {
    "vscode": {
     "languageId": "r"
    }
   },
   "outputs": [
    {
     "name": "stdout",
     "output_type": "stream",
     "text": [
      "\n",
      "\tShapiro-Wilk normality test\n",
      "\n",
      "data:  returnTS_gold\n",
      "W = 0.90733, p-value < 2.2e-16\n",
      "\n"
     ]
    }
   ],
   "source": [
    "# Perform Shapiro-Wilk test\n",
    "shapiro_test_result = shapiro.test(returnTS_gold)\n",
    "print(shapiro_test_result)"
   ]
  },
  {
   "cell_type": "code",
   "execution_count": null,
   "id": "af09b274",
   "metadata": {
    "vscode": {
     "languageId": "r"
    }
   },
   "outputs": [],
   "source": [
    "resid_AR = resid(sarima(returnTS_gold, 1,0,0, details=FALSE)$fit )\n",
    "plot(resid_AR) "
   ]
  },
  {
   "cell_type": "markdown",
   "id": "641e3840",
   "metadata": {},
   "source": [
    "## Validação da existência do efeito ARCH nos retornos. "
   ]
  },
  {
   "cell_type": "code",
   "execution_count": 45,
   "id": "085c30c2",
   "metadata": {
    "vscode": {
     "languageId": "r"
    }
   },
   "outputs": [
    {
     "data": {
      "text/plain": [
       "\n",
       "\tARCH LM-test; Null hypothesis: no ARCH effects\n",
       "\n",
       "data:  returnTS_gold\n",
       "Chi-squared = 188.33, df = 12, p-value < 2.2e-16\n"
      ]
     },
     "metadata": {},
     "output_type": "display_data"
    }
   ],
   "source": [
    "ArchTest(returnTS_gold)"
   ]
  },
  {
   "cell_type": "markdown",
   "id": "644c5c16",
   "metadata": {},
   "source": [
    "## Residuos do modelo AR sobre os retornos"
   ]
  },
  {
   "cell_type": "code",
   "execution_count": null,
   "id": "459349ce",
   "metadata": {
    "vscode": {
     "languageId": "r"
    }
   },
   "outputs": [],
   "source": [
    "par(mfrow = c(4,1))\n",
    "acf(resid_AR)\n",
    "pacf(resid_AR)\n",
    "acf(resid_AR^2)\n",
    "pacf(resid_AR^2)\n",
    "summary(garchFit(resid_AR,formula = ~garch(1,1)))"
   ]
  },
  {
   "cell_type": "markdown",
   "id": "b875c0ab",
   "metadata": {},
   "source": [
    "## Estudo da autocorrelação nos retornos e retornos²"
   ]
  },
  {
   "cell_type": "code",
   "execution_count": null,
   "id": "301975b6",
   "metadata": {
    "vscode": {
     "languageId": "r"
    }
   },
   "outputs": [],
   "source": [
    "par(mfrow = c(3,1))\n",
    "plot(returnTS_gold, main = \"Return Time Series\")\n",
    "acf(returnTS_gold, main= \"ACF Return\")\n",
    "pacf(returnTS_gold, main= \"PACF Return\")"
   ]
  },
  {
   "cell_type": "code",
   "execution_count": null,
   "id": "8db9a7ac",
   "metadata": {
    "vscode": {
     "languageId": "r"
    }
   },
   "outputs": [],
   "source": [
    "par(mfrow = c(3,1))\n",
    "plot(sqd_returnTS_gold, main = \"Squared Returns Time Series\")\n",
    "acf(sqd_returnTS_gold, main= \"ACF Squared Returns\")\n",
    "pacf(sqd_returnTS_gold, main= \"PACF Squared Returns\")"
   ]
  },
  {
   "cell_type": "markdown",
   "id": "ff83dce0",
   "metadata": {},
   "source": [
    "## Testando modelos GARCH e parametros ##"
   ]
  },
  {
   "cell_type": "code",
   "execution_count": null,
   "id": "cbab2368",
   "metadata": {
    "vscode": {
     "languageId": "r"
    }
   },
   "outputs": [],
   "source": [
    "fit11 = garchFit(~garch(1,1), data=returnTS_gold)\n",
    "fit21 = garchFit(~garch(2,1), data=returnTS_gold)\n",
    "fit22 = garchFit(~garch(2,2), data=returnTS_gold)"
   ]
  },
  {
   "cell_type": "code",
   "execution_count": 44,
   "id": "d0be53ea",
   "metadata": {
    "vscode": {
     "languageId": "r"
    }
   },
   "outputs": [
    {
     "name": "stdout",
     "output_type": "stream",
     "text": [
      "\n",
      "Title:\n",
      " GARCH Modelling \n",
      "\n",
      "Call:\n",
      " garchFit(formula = ~garch(1, 1), data = returnTS_gold) \n",
      "\n",
      "Mean and Variance Equation:\n",
      " data ~ garch(1, 1)\n",
      "<environment: 0xdb69238>\n",
      " [data = returnTS_gold]\n",
      "\n",
      "Conditional Distribution:\n",
      " norm \n",
      "\n",
      "Coefficient(s):\n",
      "        mu       omega      alpha1       beta1  \n",
      "5.9853e-04  1.0537e-05  6.7443e-02  9.1421e-01  \n",
      "\n",
      "Std. Errors:\n",
      " based on Hessian \n",
      "\n",
      "Error Analysis:\n",
      "        Estimate  Std. Error  t value Pr(>|t|)    \n",
      "mu     5.985e-04   4.313e-04    1.388    0.165    \n",
      "omega  1.054e-05   2.293e-06    4.595 4.32e-06 ***\n",
      "alpha1 6.744e-02   8.966e-03    7.522 5.37e-14 ***\n",
      "beta1  9.142e-01   1.033e-02   88.502  < 2e-16 ***\n",
      "---\n",
      "Signif. codes:  0 ‘***’ 0.001 ‘**’ 0.01 ‘*’ 0.05 ‘.’ 0.1 ‘ ’ 1\n",
      "\n",
      "Log Likelihood:\n",
      " 5004.622    normalized:  2.394556 \n",
      "\n",
      "Description:\n",
      " Thu Feb  1 23:04:40 2024 by user: dbsantos \n",
      "\n",
      "\n",
      "Standardised Residuals Tests:\n",
      "                                   Statistic   p-Value\n",
      " Jarque-Bera Test   R    Chi^2  9330.7848178 0.0000000\n",
      " Shapiro-Wilk Test  R    W         0.9410989 0.0000000\n",
      " Ljung-Box Test     R    Q(10)     9.5307574 0.4825788\n",
      " Ljung-Box Test     R    Q(15)    11.4864547 0.7174103\n",
      " Ljung-Box Test     R    Q(20)    17.2700779 0.6353731\n",
      " Ljung-Box Test     R^2  Q(10)     2.1278883 0.9952627\n",
      " Ljung-Box Test     R^2  Q(15)     2.8077599 0.9997340\n",
      " Ljung-Box Test     R^2  Q(20)     3.2375142 0.9999921\n",
      " LM Arch Test       R    TR^2      1.8309125 0.9996245\n",
      "\n",
      "Information Criterion Statistics:\n",
      "      AIC       BIC       SIC      HQIC \n",
      "-4.785284 -4.774480 -4.785291 -4.781326 \n",
      "\n"
     ]
    }
   ],
   "source": [
    "summary(fit11)"
   ]
  },
  {
   "cell_type": "code",
   "execution_count": null,
   "id": "d1b8308c",
   "metadata": {
    "vscode": {
     "languageId": "r"
    }
   },
   "outputs": [],
   "source": [
    "summary(fit21)\n",
    "summary(fit22)"
   ]
  },
  {
   "cell_type": "markdown",
   "id": "90ef21ca",
   "metadata": {},
   "source": [
    "## GARCH(1,1) estudo dos resíduos ## "
   ]
  },
  {
   "cell_type": "code",
   "execution_count": null,
   "id": "fa785a96",
   "metadata": {
    "vscode": {
     "languageId": "r"
    }
   },
   "outputs": [],
   "source": [
    "par(mfrow = c(4,4))\n",
    "plot(fit11, which = \"all\")"
   ]
  },
  {
   "cell_type": "code",
   "execution_count": null,
   "id": "4c9a7b7d",
   "metadata": {
    "vscode": {
     "languageId": "r"
    }
   },
   "outputs": [],
   "source": [
    "residuals_stdzided = residuals(fit11, standardize =TRUE)"
   ]
  },
  {
   "cell_type": "markdown",
   "id": "4835405f",
   "metadata": {},
   "source": [
    "Validação da existencia de efeito ARCH nos resíduos padronizados do GARCH(1,1)"
   ]
  },
  {
   "cell_type": "code",
   "execution_count": 47,
   "id": "c05dcd6e",
   "metadata": {
    "vscode": {
     "languageId": "r"
    }
   },
   "outputs": [
    {
     "data": {
      "text/plain": [
       "\n",
       "\tShapiro-Wilk normality test\n",
       "\n",
       "data:  residuals_stdzided\n",
       "W = 0.9411, p-value < 2.2e-16\n"
      ]
     },
     "metadata": {},
     "output_type": "display_data"
    },
    {
     "data": {
      "text/plain": [
       "\n",
       "\tARCH LM-test; Null hypothesis: no ARCH effects\n",
       "\n",
       "data:  residuals_stdzided\n",
       "Chi-squared = 1.8309, df = 12, p-value = 0.9996\n"
      ]
     },
     "metadata": {},
     "output_type": "display_data"
    }
   ],
   "source": [
    "shapiro.test(residuals_stdzided)\n",
    "ArchTest(residuals_stdzided)"
   ]
  },
  {
   "cell_type": "code",
   "execution_count": null,
   "id": "3039021c",
   "metadata": {
    "vscode": {
     "languageId": "r"
    }
   },
   "outputs": [],
   "source": [
    "par(mfrow = c(4,1))\n",
    "acf(residuals_stdzided, main = \"Standardized Residuals of GARCH(1,1) ACF\")\n",
    "pacf(residuals_stdzided, main = \"Standardized Residuals of GARCH(1,1) ACF\")\n",
    "plot(fit11, which = 13)\n",
    "x = seq(min(residuals_stdzided),max(residuals_stdzided),by=0.001)\n",
    "plot(density(residuals_stdzided), main = \"Distribuiçao de densidade das frequencias dos resíduos padronizados- modelo GARCH(1,1)\")\n",
    "lines(x,dnorm(x,mean(residuals_stdzided),sd(residuals_stdzided)),col = \"red\")\n",
    "plot(fit11, which= 3)\n"
   ]
  },
  {
   "cell_type": "markdown",
   "id": "a0569a5e",
   "metadata": {},
   "source": [
    "# Predição | Análise Janela Móvel "
   ]
  },
  {
   "cell_type": "markdown",
   "id": "031c9fa5",
   "metadata": {},
   "source": [
    "## Predição"
   ]
  },
  {
   "cell_type": "code",
   "execution_count": null,
   "id": "08e77fd4",
   "metadata": {
    "vscode": {
     "languageId": "r"
    }
   },
   "outputs": [],
   "source": [
    "garch_model = garchFit(~garch(1, 1), data = returnTS_gold)\n",
    "\n",
    "# Predict volatility on the test set\n",
    "predicted_ = predict(garch_model, n.ahead = 100, plot=TRUE)\n",
    "\n",
    "# Extract the conditional standard deviation (volatility) from the predicted values\n",
    "predicted_volatility = sqrt(predicted_$standardDeviation)\n",
    "\n",
    "# Plot the original returns and predicted volatility\n",
    "par(mfrow = c(2, 1))\n",
    "plot(returnTS_gold, type = \"l\", col = \"blue\", main = \"Retornos Originais\")\n",
    "plot(predicted_volatility, type = \"l\", col = \"red\", main = \"Volatilidade prevista - Sigma\")\n",
    "\n",
    "# Adicionar rótulos de data em alguns pontos específicos (por exemplo, a cada 50 observações)\n",
    "pontos_rotulos = seq(5, length(predicted_volatility), by = 5)\n",
    "text(index(predicted_)[pontos_rotulos], predicted_volatility[pontos_rotulos], labels = round(predicted_volatility[pontos_rotulos], 4), pos = 3, col = \"blue\")\n"
   ]
  },
  {
   "cell_type": "markdown",
   "id": "0f570b84",
   "metadata": {},
   "source": [
    "### Janela Móvel"
   ]
  },
  {
   "cell_type": "code",
   "execution_count": null,
   "id": "6dc60708",
   "metadata": {
    "vscode": {
     "languageId": "r"
    }
   },
   "outputs": [],
   "source": [
    "spec = ugarchspec(variance.model = list(model=\"fGARCH\" , submodel=\"GARCH\", garchOrder=c(1,1))\n",
    "    , mean.model = list(armaOrder = c(0, 0), include.mean = FALSE),\n",
    "distribution.model = \"norm\")\n",
    "\n",
    "#Definiçoes da janela movel\n",
    "window_size_ = 700\n",
    "start_date = window_size_\n",
    "\n",
    "rolling = ugarchroll(spec, returnTS_gold, n.start= start_date,\n",
    " refit.every = 1, refit.window = 'moving', window.size = window_size_,\n",
    "  calculate.VaR = TRUE, keep.coef = TRUE)\n",
    "\n",
    "\n",
    "result_rolllingWindow = as.data.frame(rolling)\n",
    "\n",
    "#Ajustar indices das datas do dataframe\n",
    "gold_ts_dates = as.numeric((time(returnTS_gold)))\n",
    "gold_ts_dates = as.Date(date_decimal(gold_ts_dates))\n",
    "\n",
    "#alterar somente após primeira janela (n=700)\n",
    "dates_after_firstWindow = gold_ts_dates[(window_size_ + 1) :length(gold_ts_dates)]\n",
    "row.names(result_rolllingWindow) = dates_after_firstWindow\n",
    "\n",
    "#Extrair valores\n",
    "predVolatility_sigma = xts(rslt$Sigma, order.by = as.Date(rownames(rslt)))\n",
    "ground_truth_return = xts(rslt$Realized, order.by = as.Date(rownames(rslt)))"
   ]
  },
  {
   "cell_type": "code",
   "execution_count": null,
   "id": "7fba999f",
   "metadata": {
    "vscode": {
     "languageId": "r"
    }
   },
   "outputs": [],
   "source": [
    "plot(ground_truth_return)\n",
    "lines(predVolatility_sigma, col= \"red\")"
   ]
  }
 ],
 "metadata": {
  "kernelspec": {
   "display_name": "R",
   "language": "R",
   "name": "ir"
  },
  "language_info": {
   "codemirror_mode": "r",
   "file_extension": ".r",
   "mimetype": "text/x-r-source",
   "name": "R",
   "pygments_lexer": "r",
   "version": "4.2.0"
  }
 },
 "nbformat": 4,
 "nbformat_minor": 5
}
